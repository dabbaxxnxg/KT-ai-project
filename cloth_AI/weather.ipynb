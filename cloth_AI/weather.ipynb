{
 "cells": [
  {
   "cell_type": "code",
   "execution_count": 5,
   "metadata": {},
   "outputs": [],
   "source": [
    "#날씨 API 받아오기\n",
    "import requests\n",
    "import json\n",
    "import datetime\n",
    "import pickle\n",
    "import numpy as np\n",
    "\n",
    "#아래 url은 받은 api 페이지 참고문서에 보면 적혀있습니다.\n",
    "weather_URL = 'http://apis.data.go.kr/1360000/VilageFcstInfoService_2.0/getVilageFcst'\n",
    "service_key = 'C3f1VJ8VEgQNFvd+fBrLMuqEf3hboln4Y+EEFwqvAV84D0HF+xj3cZjSYxkYMMt/ITx+ELxAgIq9S9/lfOoEoQ=='\n",
    "today = datetime.datetime.today()\n",
    "base_date = today.strftime(\"%Y%m%d\")\n",
    "base_time = \"0800\"\n",
    "\n",
    "nx = \"63\"\n",
    "ny = \"122\"\n",
    "\n",
    "#요청변수\n",
    "params ={'serviceKey' : service_key, 'pageNo' : '1', 'numOfRows' : '1000', 'dataType' : 'JSON', 'base_date' : base_date, 'base_time' : '0800', 'nx' : nx, 'ny' : ny }\n",
    "\n",
    "response = requests.get(weather_URL, params=params)\n",
    "\n",
    "items = response.json().get('response').get('body').get('items')\n",
    "data = dict()\n",
    "data['data'] = base_date\n",
    "\n",
    "weather_data = dict()\n",
    "\n",
    "#items를 조건문으로 비교하며 각각의 list에 분류해줌\n",
    "tmp_data = list()\n",
    "wsd_data = list()\n",
    "reh_data = list()\n",
    "\n",
    "for i in range(len(items['item'])):\n",
    "  if items['item'][i]['fcstDate'] == base_date:\n",
    "    if items['item'][i]['category'] == 'TMP':\n",
    "      tmp = float(items['item'][i]['fcstValue'])\n",
    "      tmp_data.append(tmp)\n",
    "    if items['item'][i]['category'] == 'WSD':\n",
    "      wsd = float(items['item'][i]['fcstValue'])\n",
    "      wsd_data.append(wsd)\n",
    "    if items['item'][i]['category'] == 'REH':\n",
    "      reh = float(items['item'][i]['fcstValue'])\n",
    "      reh_data.append(reh)\n",
    "      \n",
    "items['item']\n",
    "import numpy\n",
    "\n",
    "max_TMP =max(tmp_data)\n",
    "min_TMP = min(tmp_data)\n",
    "range_TMP = round(max_TMP-min_TMP,2)\n",
    "max_WSD = max(wsd_data)\n",
    "range_REH = round(numpy.mean(reh_data),2)\n"
   ]
  },
  {
   "cell_type": "code",
   "execution_count": 6,
   "metadata": {},
   "outputs": [],
   "source": [
    "#저장된 학습모델 불러오기\n",
    "\n",
    "with open(\"saved_model.pkl\", 'rb') as f:\n",
    "    model = pickle.load(f)"
   ]
  },
  {
   "cell_type": "code",
   "execution_count": 8,
   "metadata": {},
   "outputs": [
    {
     "data": {
      "text/plain": [
       "1"
      ]
     },
     "execution_count": 8,
     "metadata": {},
     "output_type": "execute_result"
    }
   ],
   "source": [
    "#받아온 변수 값들을 불러온 학습 모델에 넣은 후 예측값 구하기\n",
    "\n",
    "arr= np.array([[max_TMP, min_TMP , range_TMP, max_WSD, range_REH]])\n",
    "model_pred = model.predict(arr)\n",
    "model_pred[0]"
   ]
  },
  {
   "cell_type": "code",
   "execution_count": null,
   "metadata": {},
   "outputs": [],
   "source": []
  }
 ],
 "metadata": {
  "kernelspec": {
   "display_name": "Python 3",
   "language": "python",
   "name": "python3"
  },
  "language_info": {
   "codemirror_mode": {
    "name": "ipython",
    "version": 3
   },
   "file_extension": ".py",
   "mimetype": "text/x-python",
   "name": "python",
   "nbconvert_exporter": "python",
   "pygments_lexer": "ipython3",
   "version": "3.8.8"
  }
 },
 "nbformat": 4,
 "nbformat_minor": 5
}
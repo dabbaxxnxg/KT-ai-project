{
 "cells": [
  {
   "cell_type": "code",
   "execution_count": 1,
   "metadata": {},
   "outputs": [
    {
     "name": "stderr",
     "output_type": "stream",
     "text": [
      "/home/yoon/.local/lib/python3.6/site-packages/tensorflow/python/framework/dtypes.py:516: FutureWarning: Passing (type, 1) or '1type' as a synonym of type is deprecated; in a future version of numpy, it will be understood as (type, (1,)) / '(1,)type'.\n",
      "  _np_qint8 = np.dtype([(\"qint8\", np.int8, 1)])\n",
      "/home/yoon/.local/lib/python3.6/site-packages/tensorflow/python/framework/dtypes.py:517: FutureWarning: Passing (type, 1) or '1type' as a synonym of type is deprecated; in a future version of numpy, it will be understood as (type, (1,)) / '(1,)type'.\n",
      "  _np_quint8 = np.dtype([(\"quint8\", np.uint8, 1)])\n",
      "/home/yoon/.local/lib/python3.6/site-packages/tensorflow/python/framework/dtypes.py:518: FutureWarning: Passing (type, 1) or '1type' as a synonym of type is deprecated; in a future version of numpy, it will be understood as (type, (1,)) / '(1,)type'.\n",
      "  _np_qint16 = np.dtype([(\"qint16\", np.int16, 1)])\n",
      "/home/yoon/.local/lib/python3.6/site-packages/tensorflow/python/framework/dtypes.py:519: FutureWarning: Passing (type, 1) or '1type' as a synonym of type is deprecated; in a future version of numpy, it will be understood as (type, (1,)) / '(1,)type'.\n",
      "  _np_quint16 = np.dtype([(\"quint16\", np.uint16, 1)])\n",
      "/home/yoon/.local/lib/python3.6/site-packages/tensorflow/python/framework/dtypes.py:520: FutureWarning: Passing (type, 1) or '1type' as a synonym of type is deprecated; in a future version of numpy, it will be understood as (type, (1,)) / '(1,)type'.\n",
      "  _np_qint32 = np.dtype([(\"qint32\", np.int32, 1)])\n",
      "/home/yoon/.local/lib/python3.6/site-packages/tensorflow/python/framework/dtypes.py:525: FutureWarning: Passing (type, 1) or '1type' as a synonym of type is deprecated; in a future version of numpy, it will be understood as (type, (1,)) / '(1,)type'.\n",
      "  np_resource = np.dtype([(\"resource\", np.ubyte, 1)])\n"
     ]
    }
   ],
   "source": [
    "import pandas as pd\n",
    "import numpy as np\n",
    "import tensorflow as tf\n",
    "import matplotlib.pyplot as plt\n",
    "import seaborn as sns\n",
    "import csv \n",
    "import pickle\n",
    "import joblib\n",
    "from sklearn.model_selection import train_test_split\n",
    "from sklearn.tree import DecisionTreeClassifier"
   ]
  },
  {
   "cell_type": "code",
   "execution_count": 2,
   "metadata": {},
   "outputs": [
    {
     "data": {
      "text/html": [
       "<div>\n",
       "<style scoped>\n",
       "    .dataframe tbody tr th:only-of-type {\n",
       "        vertical-align: middle;\n",
       "    }\n",
       "\n",
       "    .dataframe tbody tr th {\n",
       "        vertical-align: top;\n",
       "    }\n",
       "\n",
       "    .dataframe thead th {\n",
       "        text-align: right;\n",
       "    }\n",
       "</style>\n",
       "<table border=\"1\" class=\"dataframe\">\n",
       "  <thead>\n",
       "    <tr style=\"text-align: right;\">\n",
       "      <th></th>\n",
       "      <th>max_tmp</th>\n",
       "      <th>min_tmp</th>\n",
       "      <th>range</th>\n",
       "      <th>hum</th>\n",
       "      <th>wind</th>\n",
       "      <th>label</th>\n",
       "    </tr>\n",
       "  </thead>\n",
       "  <tbody>\n",
       "    <tr>\n",
       "      <th>0</th>\n",
       "      <td>0.3</td>\n",
       "      <td>-6.5</td>\n",
       "      <td>6.8</td>\n",
       "      <td>64.4</td>\n",
       "      <td>2.6</td>\n",
       "      <td>1</td>\n",
       "    </tr>\n",
       "    <tr>\n",
       "      <th>1</th>\n",
       "      <td>3.8</td>\n",
       "      <td>-0.7</td>\n",
       "      <td>4.5</td>\n",
       "      <td>65.4</td>\n",
       "      <td>4.0</td>\n",
       "      <td>1</td>\n",
       "    </tr>\n",
       "    <tr>\n",
       "      <th>2</th>\n",
       "      <td>4.6</td>\n",
       "      <td>-3.4</td>\n",
       "      <td>8.0</td>\n",
       "      <td>56.9</td>\n",
       "      <td>3.5</td>\n",
       "      <td>1</td>\n",
       "    </tr>\n",
       "    <tr>\n",
       "      <th>3</th>\n",
       "      <td>6.1</td>\n",
       "      <td>-2.8</td>\n",
       "      <td>8.9</td>\n",
       "      <td>50.8</td>\n",
       "      <td>4.5</td>\n",
       "      <td>1</td>\n",
       "    </tr>\n",
       "    <tr>\n",
       "      <th>4</th>\n",
       "      <td>6.6</td>\n",
       "      <td>-3.2</td>\n",
       "      <td>9.8</td>\n",
       "      <td>45.6</td>\n",
       "      <td>2.9</td>\n",
       "      <td>1</td>\n",
       "    </tr>\n",
       "  </tbody>\n",
       "</table>\n",
       "</div>"
      ],
      "text/plain": [
       "   max_tmp  min_tmp  range   hum  wind  label\n",
       "0      0.3     -6.5    6.8  64.4   2.6      1\n",
       "1      3.8     -0.7    4.5  65.4   4.0      1\n",
       "2      4.6     -3.4    8.0  56.9   3.5      1\n",
       "3      6.1     -2.8    8.9  50.8   4.5      1\n",
       "4      6.6     -3.2    9.8  45.6   2.9      1"
      ]
     },
     "execution_count": 2,
     "metadata": {},
     "output_type": "execute_result"
    }
   ],
   "source": [
    "#csv 파일을 읽어온 후 제대로 읽었는지 확인\n",
    "\n",
    "train_data = pd.read_csv('./climate_result.csv' )\n",
    "train_data.head()"
   ]
  },
  {
   "cell_type": "code",
   "execution_count": 3,
   "metadata": {},
   "outputs": [
    {
     "name": "stdout",
     "output_type": "stream",
     "text": [
      "<class 'pandas.core.frame.DataFrame'>\n",
      "RangeIndex: 366 entries, 0 to 365\n",
      "Data columns (total 6 columns):\n",
      " #   Column   Non-Null Count  Dtype  \n",
      "---  ------   --------------  -----  \n",
      " 0   max_tmp  366 non-null    float64\n",
      " 1   min_tmp  366 non-null    float64\n",
      " 2   range    366 non-null    float64\n",
      " 3   hum      366 non-null    float64\n",
      " 4   wind     366 non-null    float64\n",
      " 5   label    366 non-null    int64  \n",
      "dtypes: float64(5), int64(1)\n",
      "memory usage: 17.3 KB\n"
     ]
    }
   ],
   "source": [
    "#데이터의 설명, 정보, 상관관계 등을 확인\n",
    "\n",
    "train_data.info()"
   ]
  },
  {
   "cell_type": "code",
   "execution_count": 4,
   "metadata": {},
   "outputs": [
    {
     "data": {
      "text/html": [
       "<div>\n",
       "<style scoped>\n",
       "    .dataframe tbody tr th:only-of-type {\n",
       "        vertical-align: middle;\n",
       "    }\n",
       "\n",
       "    .dataframe tbody tr th {\n",
       "        vertical-align: top;\n",
       "    }\n",
       "\n",
       "    .dataframe thead th {\n",
       "        text-align: right;\n",
       "    }\n",
       "</style>\n",
       "<table border=\"1\" class=\"dataframe\">\n",
       "  <thead>\n",
       "    <tr style=\"text-align: right;\">\n",
       "      <th></th>\n",
       "      <th>max_tmp</th>\n",
       "      <th>min_tmp</th>\n",
       "      <th>range</th>\n",
       "      <th>hum</th>\n",
       "      <th>wind</th>\n",
       "      <th>label</th>\n",
       "    </tr>\n",
       "  </thead>\n",
       "  <tbody>\n",
       "    <tr>\n",
       "      <th>count</th>\n",
       "      <td>366.000000</td>\n",
       "      <td>366.000000</td>\n",
       "      <td>366.000000</td>\n",
       "      <td>366.000000</td>\n",
       "      <td>366.000000</td>\n",
       "      <td>366.000000</td>\n",
       "    </tr>\n",
       "    <tr>\n",
       "      <th>mean</th>\n",
       "      <td>17.867213</td>\n",
       "      <td>9.389617</td>\n",
       "      <td>8.477596</td>\n",
       "      <td>62.105191</td>\n",
       "      <td>4.845355</td>\n",
       "      <td>6.265027</td>\n",
       "    </tr>\n",
       "    <tr>\n",
       "      <th>std</th>\n",
       "      <td>9.635350</td>\n",
       "      <td>10.018498</td>\n",
       "      <td>2.963641</td>\n",
       "      <td>15.844109</td>\n",
       "      <td>1.250104</td>\n",
       "      <td>2.959680</td>\n",
       "    </tr>\n",
       "    <tr>\n",
       "      <th>min</th>\n",
       "      <td>-6.200000</td>\n",
       "      <td>-12.900000</td>\n",
       "      <td>1.500000</td>\n",
       "      <td>14.900000</td>\n",
       "      <td>2.500000</td>\n",
       "      <td>1.000000</td>\n",
       "    </tr>\n",
       "    <tr>\n",
       "      <th>25%</th>\n",
       "      <td>9.400000</td>\n",
       "      <td>0.900000</td>\n",
       "      <td>6.300000</td>\n",
       "      <td>50.400000</td>\n",
       "      <td>4.000000</td>\n",
       "      <td>4.000000</td>\n",
       "    </tr>\n",
       "    <tr>\n",
       "      <th>50%</th>\n",
       "      <td>18.650000</td>\n",
       "      <td>8.600000</td>\n",
       "      <td>8.600000</td>\n",
       "      <td>62.900000</td>\n",
       "      <td>4.600000</td>\n",
       "      <td>8.000000</td>\n",
       "    </tr>\n",
       "    <tr>\n",
       "      <th>75%</th>\n",
       "      <td>26.300000</td>\n",
       "      <td>18.900000</td>\n",
       "      <td>10.500000</td>\n",
       "      <td>72.475000</td>\n",
       "      <td>5.500000</td>\n",
       "      <td>9.000000</td>\n",
       "    </tr>\n",
       "    <tr>\n",
       "      <th>max</th>\n",
       "      <td>35.400000</td>\n",
       "      <td>27.000000</td>\n",
       "      <td>16.500000</td>\n",
       "      <td>95.800000</td>\n",
       "      <td>9.800000</td>\n",
       "      <td>9.000000</td>\n",
       "    </tr>\n",
       "  </tbody>\n",
       "</table>\n",
       "</div>"
      ],
      "text/plain": [
       "          max_tmp     min_tmp       range         hum        wind       label\n",
       "count  366.000000  366.000000  366.000000  366.000000  366.000000  366.000000\n",
       "mean    17.867213    9.389617    8.477596   62.105191    4.845355    6.265027\n",
       "std      9.635350   10.018498    2.963641   15.844109    1.250104    2.959680\n",
       "min     -6.200000  -12.900000    1.500000   14.900000    2.500000    1.000000\n",
       "25%      9.400000    0.900000    6.300000   50.400000    4.000000    4.000000\n",
       "50%     18.650000    8.600000    8.600000   62.900000    4.600000    8.000000\n",
       "75%     26.300000   18.900000   10.500000   72.475000    5.500000    9.000000\n",
       "max     35.400000   27.000000   16.500000   95.800000    9.800000    9.000000"
      ]
     },
     "execution_count": 4,
     "metadata": {},
     "output_type": "execute_result"
    }
   ],
   "source": [
    "train_data.describe()"
   ]
  },
  {
   "cell_type": "code",
   "execution_count": 5,
   "metadata": {},
   "outputs": [
    {
     "data": {
      "text/html": [
       "<div>\n",
       "<style scoped>\n",
       "    .dataframe tbody tr th:only-of-type {\n",
       "        vertical-align: middle;\n",
       "    }\n",
       "\n",
       "    .dataframe tbody tr th {\n",
       "        vertical-align: top;\n",
       "    }\n",
       "\n",
       "    .dataframe thead th {\n",
       "        text-align: right;\n",
       "    }\n",
       "</style>\n",
       "<table border=\"1\" class=\"dataframe\">\n",
       "  <thead>\n",
       "    <tr style=\"text-align: right;\">\n",
       "      <th></th>\n",
       "      <th>max_tmp</th>\n",
       "      <th>min_tmp</th>\n",
       "      <th>range</th>\n",
       "      <th>hum</th>\n",
       "      <th>wind</th>\n",
       "      <th>label</th>\n",
       "    </tr>\n",
       "  </thead>\n",
       "  <tbody>\n",
       "    <tr>\n",
       "      <th>max_tmp</th>\n",
       "      <td>1.000000</td>\n",
       "      <td>0.955267</td>\n",
       "      <td>0.021937</td>\n",
       "      <td>0.449097</td>\n",
       "      <td>-0.017995</td>\n",
       "      <td>0.726559</td>\n",
       "    </tr>\n",
       "    <tr>\n",
       "      <th>min_tmp</th>\n",
       "      <td>0.955267</td>\n",
       "      <td>1.000000</td>\n",
       "      <td>-0.274719</td>\n",
       "      <td>0.606057</td>\n",
       "      <td>0.022880</td>\n",
       "      <td>0.585052</td>\n",
       "    </tr>\n",
       "    <tr>\n",
       "      <th>range</th>\n",
       "      <td>0.021937</td>\n",
       "      <td>-0.274719</td>\n",
       "      <td>1.000000</td>\n",
       "      <td>-0.588660</td>\n",
       "      <td>-0.135851</td>\n",
       "      <td>0.384428</td>\n",
       "    </tr>\n",
       "    <tr>\n",
       "      <th>hum</th>\n",
       "      <td>0.449097</td>\n",
       "      <td>0.606057</td>\n",
       "      <td>-0.588660</td>\n",
       "      <td>1.000000</td>\n",
       "      <td>-0.038239</td>\n",
       "      <td>0.176436</td>\n",
       "    </tr>\n",
       "    <tr>\n",
       "      <th>wind</th>\n",
       "      <td>-0.017995</td>\n",
       "      <td>0.022880</td>\n",
       "      <td>-0.135851</td>\n",
       "      <td>-0.038239</td>\n",
       "      <td>1.000000</td>\n",
       "      <td>-0.054055</td>\n",
       "    </tr>\n",
       "    <tr>\n",
       "      <th>label</th>\n",
       "      <td>0.726559</td>\n",
       "      <td>0.585052</td>\n",
       "      <td>0.384428</td>\n",
       "      <td>0.176436</td>\n",
       "      <td>-0.054055</td>\n",
       "      <td>1.000000</td>\n",
       "    </tr>\n",
       "  </tbody>\n",
       "</table>\n",
       "</div>"
      ],
      "text/plain": [
       "          max_tmp   min_tmp     range       hum      wind     label\n",
       "max_tmp  1.000000  0.955267  0.021937  0.449097 -0.017995  0.726559\n",
       "min_tmp  0.955267  1.000000 -0.274719  0.606057  0.022880  0.585052\n",
       "range    0.021937 -0.274719  1.000000 -0.588660 -0.135851  0.384428\n",
       "hum      0.449097  0.606057 -0.588660  1.000000 -0.038239  0.176436\n",
       "wind    -0.017995  0.022880 -0.135851 -0.038239  1.000000 -0.054055\n",
       "label    0.726559  0.585052  0.384428  0.176436 -0.054055  1.000000"
      ]
     },
     "execution_count": 5,
     "metadata": {},
     "output_type": "execute_result"
    }
   ],
   "source": [
    "train_data.corr()"
   ]
  },
  {
   "cell_type": "code",
   "execution_count": 6,
   "metadata": {},
   "outputs": [
    {
     "data": {
      "text/plain": [
       "<AxesSubplot:>"
      ]
     },
     "execution_count": 6,
     "metadata": {},
     "output_type": "execute_result"
    },
    {
     "data": {
      "image/png": "[encoded data removed]",
      "text/plain": [
       "<Figure size 432x288 with 2 Axes>"
      ]
     },
     "metadata": {
      "needs_background": "light"
     },
     "output_type": "display_data"
    }
   ],
   "source": [
    "sns.heatmap(train_data.corr())"
   ]
  },
  {
   "cell_type": "code",
   "execution_count": 7,
   "metadata": {},
   "outputs": [
    {
     "data": {
      "text/plain": [
       "<AxesSubplot:>"
      ]
     },
     "execution_count": 7,
     "metadata": {},
     "output_type": "execute_result"
    },
    {
     "data": {
      "image/png": "[encoded data removed]",
      "text/plain": [
       "<Figure size 432x288 with 2 Axes>"
      ]
     },
     "metadata": {
      "needs_background": "light"
     },
     "output_type": "display_data"
    }
   ],
   "source": [
    "sns.heatmap(train_data.corr(), vmin = -1, vmax = +1, annot = True, cmap = 'coolwarm')"
   ]
  },
  {
   "cell_type": "code",
   "execution_count": 8,
   "metadata": {},
   "outputs": [],
   "source": [
    "#데이터를 변수와 레이블로 나눠줌\n",
    "\n",
    "X = train_data.iloc[:,[0,1,2,3,4]].values\n",
    "y = train_data.iloc[:,[5]].values"
   ]
  },
  {
   "cell_type": "code",
   "execution_count": 9,
   "metadata": {},
   "outputs": [],
   "source": [
    "#데이터셋을 Train과 Val의 데이터셋으로 나눠줌\n",
    "\n",
    "train_x, val_x, train_y, val_y = train_test_split(X,y,test_size=0.2,random_state=20)"
   ]
  },
  {
   "cell_type": "code",
   "execution_count": 10,
   "metadata": {},
   "outputs": [],
   "source": [
    "#Decision Tree의 모델\n",
    "\n",
    "model = DecisionTreeClassifier(max_depth=7,random_state=2)"
   ]
  },
  {
   "cell_type": "code",
   "execution_count": 11,
   "metadata": {},
   "outputs": [
    {
     "data": {
      "text/plain": [
       "(0.9863013698630136, 0.9594594594594594)"
      ]
     },
     "execution_count": 11,
     "metadata": {},
     "output_type": "execute_result"
    }
   ],
   "source": [
    "#Decision Tree 학습\n",
    "model.fit(train_x,train_y)\n",
    "model_pred = model.predict(val_x)\n",
    "\n",
    "#정확도 평가\n",
    "model.score(train_x, train_y), model.score(val_x, val_y)"
   ]
  },
  {
   "cell_type": "code",
   "execution_count": 12,
   "metadata": {},
   "outputs": [],
   "source": [
    "#변수값을 집어넣어 예측값 확인해보는 부분\n",
    "#arr= np.array([[10, 20.5 ,10.5, 3, 60]])\n",
    "#model_pred = model.predict(arr)\n",
    "\n",
    "#model_pred[0]"
   ]
  },
  {
   "cell_type": "code",
   "execution_count": 13,
   "metadata": {},
   "outputs": [],
   "source": [
    "# 학습모뎅을 피클로 저장\n",
    "with open('saved_model.pkl', 'wb') as f:\n",
    "    pickle.dump(model, f)\n"
   ]
  },
  {
   "cell_type": "code",
   "execution_count": 20,
   "metadata": {},
   "outputs": [],
   "source": []
  },
  {
   "cell_type": "code",
   "execution_count": null,
   "metadata": {},
   "outputs": [],
   "source": []
  }
 ],
 "metadata": {
  "interpreter": {
   "hash": "31f2aee4e71d21fbe5cf8b01ff0e069b9275f58929596ceb00d14d90e3e16cd6"
  },
  "kernelspec": {
   "display_name": "Python 3.6.9 64-bit",
   "name": "python3"
  },
  "language_info": {
   "codemirror_mode": {
    "name": "ipython",
    "version": 3
   },
   "file_extension": ".py",
   "mimetype": "text/x-python",
   "name": "python",
   "nbconvert_exporter": "python",
   "pygments_lexer": "ipython3",
   "version": "3.6.9"
  }
 },
 "nbformat": 4,
 "nbformat_minor": 5
}